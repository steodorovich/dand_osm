{
 "cells": [
  {
   "cell_type": "markdown",
   "metadata": {},
   "source": [
    "# Data Wrangling with OpenStreetMaps and SQL\n",
    "<a href=\"http://www.openstreetmap.org\">OpenStreetMap</a> is a volunteered geographic information project that runs on open source collaboration to provide free and editable maps to everyone on this planet (assuming they have internet access). \n",
    "<p>As expected with user generated content, inconsistencies and errors (misspellings, innacurate info, etc) in the data are present. The goal of this project is to:\n",
    "<ul>\n",
    "<li>Download map data of a selected city</li>\n",
    "<li>Import the data into an sqlite database</li>\n",
    "<li>Correct the problems and fix errors</li>\n",
    "</ul>"
   ]
  },
  {
   "cell_type": "markdown",
   "metadata": {},
   "source": [
    "## Map Area\n",
    "\n",
    "<b>The island of O'ahu, HI, United States</b> (<a href=\"http://www.openstreetmap.org/relation/3489649\">Open Street Map Relation: Honolulu, HI</a>)\n",
    "<p>I chose O'ahu for several reasons, among which are my intense affinity for the area from having spend considerable time there.</p>"
   ]
  },
  {
   "cell_type": "markdown",
   "metadata": {},
   "source": [
    "## Process\n",
    "\n",
    "This project will include three steps: \n",
    "<ol>\n",
    "<li><b>Data Review:</b> In which the OpenStreetMap .xml file is audited and the data types cleaned in preparation for analysis</li>\n",
    "<li><b>SQL Preparation:</b> Where the cleaned .xml file is parsed into .csv files suitable for SQL query</li>\n",
    "<li><b>Query</b>: In which SQL queries are applied to answer general questions about the area, such as number of retaurants</li>\n",
    "</ol>\n",
    "\n",
    "### Contents\n",
    "I have included all of the individual code files used in this project as part of the submission package:  \n",
    "<ol>\n",
    "<li><b>oahu_audit.py</b> Gather list of users by uid</li>\n",
    "<li><b>oahu_street_clean.py</b> Standardize street names</li>\n",
    "<li><b>oahu_zip_clean.py</b> Standardize zip codes</li>\n",
    "<li><b>oahu_phone_clean.py</b> Standardize phone numbers</li>\n",
    "<li><b>oahu_tag_clean.py</b> Cleans any troublesome tags in the data set</li>\n",
    "<li><b>oahu_csv_convert.py</b> Convert the .xml file into a series of .csv files</li>\n",
    "<li><b>oahu_schema.py</b> Create the proper shcemas</li>\n",
    "<li><b>oahu_sql_prep.py</b> Prepares the files for SQL queries</li>\n",
    "<li><b>oahu_sql_queries</b> A series of SQL queries run on the converted .csv files</li>\n",
    "</ol>\n",
    "\n",
    "All of the actual data wrangling, cleaning, queries, and results were obtained by running the included <b>P3_O'ahu_Code.ipynb</b> file."
   ]
  },
  {
   "cell_type": "markdown",
   "metadata": {},
   "source": [
    "## Overview of the Data\n",
    "\n",
    "Before we begin, let's get a summary of the file sizes for all of the data used in this project<br/><br/>\n",
    "File Sizes:"
   ]
  },
  {
   "cell_type": "code",
   "execution_count": 1,
   "metadata": {
    "collapsed": false
   },
   "outputs": [
    {
     "name": "stdout",
     "output_type": "stream",
     "text": [
      "The file downloaded for the map data of the city of Honolulu, HI is 61.975581 MB\n",
      "The csv file for nodes is 24.392537 MB\n",
      "The csv file for nodes_tags is 0.631892 MB\n",
      "The csv file for ways is 1.947941 MB\n",
      "The csv file for ways_nodes is 8.52166 MB\n",
      "The csv file for ways_tags is 3.866938 MB\n",
      "The db file for Oahu OpenStreetMap  is 35.2 MB\n"
     ]
    }
   ],
   "source": [
    "import os\n",
    "print 'The file downloaded for the map data of the city of Honolulu, HI is {} MB'.format(os.path.getsize(\"c:\\honolulu_hawaii.osm\")/1.0e6)\n",
    "print 'The csv file for nodes is {} MB'.format(os.path.getsize(\"nodes.csv\")/1.0e6)\n",
    "print 'The csv file for nodes_tags is {} MB'.format(os.path.getsize(\"nodes_tags.csv\")/1.0e6)\n",
    "print 'The csv file for ways is {} MB'.format(os.path.getsize(\"ways.csv\")/1.0e6)\n",
    "print 'The csv file for ways_nodes is {} MB'.format(os.path.getsize(\"ways_nodes.csv\")/1.0e6)\n",
    "print 'The csv file for ways_tags is {} MB'.format(os.path.getsize(\"ways_tags.csv\")/1.0e6)\n",
    "print 'The db file for Oahu OpenStreetMap  is {} MB'.format(os.path.getsize(\"OpenStreetMap_Oahu.db\")/1.0e6)"
   ]
  },
  {
   "cell_type": "markdown",
   "metadata": {},
   "source": [
    "## Data Review\n",
    "My initial data review involved checking\n",
    "<ul>\n",
    "<li>Street Names (inlcuding abbreviations)</li>\n",
    "<li>Postal Codes</li>\n",
    "<li>Phone Numbers</li>\n",
    "</ul>\n",
    "\n",
    "The goal was to assess the consistency and quality for these three elements, and to standardize the information. "
   ]
  },
  {
   "cell_type": "markdown",
   "metadata": {},
   "source": [
    "### Problem with the Data - Standardization\n",
    "Among the expected problems with the data were inconsistent street name abbreviations, such as Bl, Bl. Blvd, and Blvd. for \"Boulevard\".  I also expect similar inconsistencies in the formatting and presentation of zip codes and phone numbers.\n",
    "\n",
    "To mitigate this, I will standardize all three by first identifying the errors, then correcting them by:\n",
    "<ol>\n",
    "<li>Create a list of \"standardized\" street names/zip code/phone number</li>\n",
    "<li>Audit the data to identify non-standardized abbreviations, and to replace them with the standardized forms</li>\n",
    "</ol>\n",
    "\n",
    "Using street names as an example, the process will involve creating a function \"audit_street_type\" which collects the last word in the \"street_name\" string.  Any words not present in the original list of standardized names will be added to the \"street_types\" dictionary, and will eventually be corrected by the \"update_name_function.\n",
    "\n",
    "The code to perform these tasks are contained in the \"oahu_street_clean.py\", \"oahu_clean_zip.py\", and \"oahu_clean_phone.py\" files"
   ]
  },
  {
   "cell_type": "markdown",
   "metadata": {},
   "source": [
    "<b>Street Standardization</b>\n",
    "Code sample:"
   ]
  },
  {
   "cell_type": "markdown",
   "metadata": {
    "collapsed": false
   },
   "source": [
    "![alt text](street_correction.png \"Street Correction\")"
   ]
  },
  {
   "cell_type": "markdown",
   "metadata": {},
   "source": [
    "This updated all substrings, such that: “Ena Rd” becomes “Ena Road”. It is important to note that this does not mean, all street adresses on the island of O'ahu have been cleaned. Our expected list in the regex and anticipiated alternate street type endings are very likely incomplete.  However, this is a good start."
   ]
  },
  {
   "cell_type": "markdown",
   "metadata": {},
   "source": [
    "<b>Zip Code Standardization</b>\n",
    "Code sample:"
   ]
  },
  {
   "cell_type": "markdown",
   "metadata": {
    "collapsed": false
   },
   "source": [
    "![alt text](zip_correction.png \"Zip Code Correctione\")"
   ]
  },
  {
   "cell_type": "markdown",
   "metadata": {},
   "source": [
    "As we see, all the zip codes now conform to our five-digit standard, and any +4 extensions or instances in which \"HI\" was present have been removed."
   ]
  },
  {
   "cell_type": "markdown",
   "metadata": {},
   "source": [
    "<b>Phone Number Standardization</b>\n",
    "Code sample:"
   ]
  },
  {
   "cell_type": "markdown",
   "metadata": {
    "collapsed": true
   },
   "source": [
    "![alt text](phone_correction.png \"Phone Correctione\")"
   ]
  },
  {
   "cell_type": "markdown",
   "metadata": {},
   "source": [
    "Once again the results are that any oddly formatted phone numbers, such as having \"1\" at the front, or the area code in parentheses such as (808), or using dashes or dots to separate the digits (i.e. 808.555.1212) are removed."
   ]
  },
  {
   "cell_type": "markdown",
   "metadata": {},
   "source": [
    "## SQL Queries\n",
    "\n",
    "We're now ready to use the created .csv files for sql queries: nodes_path, node_tags, ways, ways_nodes and ways_tags"
   ]
  },
  {
   "cell_type": "code",
   "execution_count": 2,
   "metadata": {
    "collapsed": true
   },
   "outputs": [],
   "source": [
    "import sqlite3\n",
    "import csv\n",
    "from pprint import pprint\n",
    "\n",
    "sqlite_file = \"OpenStreetMap_Oahu.db\"\n",
    "conn = sqlite3.connect(sqlite_file)\n",
    "cur = conn.cursor()\n",
    "\n",
    "cur.execute('DROP TABLE IF EXISTS nodes')\n",
    "conn.commit()\n",
    "\n",
    "cur.execute('''\n",
    "    Create Table nodes(id INTEGER, lat REAL, lon REAL, user TEXT, uid INTEGER, version TEXT, changeset INTEGER, timestamp TEXT)\n",
    "''')\n",
    "\n",
    "conn.commit()"
   ]
  },
  {
   "cell_type": "markdown",
   "metadata": {},
   "source": [
    "### Number of Nodes"
   ]
  },
  {
   "cell_type": "markdown",
   "metadata": {
    "collapsed": false
   },
   "source": [
    "![alt text](num_nodes.png \"NUmber of Nodes\")"
   ]
  },
  {
   "cell_type": "markdown",
   "metadata": {},
   "source": [
    "### Number of Ways"
   ]
  },
  {
   "cell_type": "markdown",
   "metadata": {
    "collapsed": false
   },
   "source": [
    "![alt text](num_ways.png \"Number of Ways\")"
   ]
  },
  {
   "cell_type": "markdown",
   "metadata": {},
   "source": [
    "### Number of Unique Users"
   ]
  },
  {
   "cell_type": "markdown",
   "metadata": {
    "collapsed": false
   },
   "source": [
    "![alt text](num_unique.png \"Number of Unique Users\")"
   ]
  },
  {
   "cell_type": "markdown",
   "metadata": {},
   "source": [
    "### Top 10 Contributors"
   ]
  },
  {
   "cell_type": "markdown",
   "metadata": {
    "collapsed": true
   },
   "source": [
    "![alt text](top_users.png \"Top 10 Users\")"
   ]
  },
  {
   "cell_type": "markdown",
   "metadata": {},
   "source": [
    "### Number of users with fewer than 10 updates"
   ]
  },
  {
   "cell_type": "markdown",
   "metadata": {
    "collapsed": true
   },
   "source": [
    "![alt text](num_less_10.png \"Number of Users Less 10 Updates\")"
   ]
  },
  {
   "cell_type": "markdown",
   "metadata": {},
   "source": [
    "### Number of Users with only one update\n",
    "![alt text](num_once.png \"Number of Users Once\")"
   ]
  },
  {
   "cell_type": "markdown",
   "metadata": {},
   "source": [
    "### Metropolitan areas of O'ahu"
   ]
  },
  {
   "cell_type": "markdown",
   "metadata": {
    "collapsed": true
   },
   "source": [
    "![alt text](metro_areas.png \"Metro Areas\")"
   ]
  },
  {
   "cell_type": "markdown",
   "metadata": {},
   "source": [
    "### Top 10 Tourist ameneties"
   ]
  },
  {
   "cell_type": "markdown",
   "metadata": {
    "collapsed": true
   },
   "source": [
    "![alt text](top_tourist.png \"Top 10 Tourist\")"
   ]
  },
  {
   "cell_type": "markdown",
   "metadata": {},
   "source": [
    "### Number of restaurants by metropolitan area"
   ]
  },
  {
   "cell_type": "markdown",
   "metadata": {
    "collapsed": true
   },
   "source": [
    "![alt text](num_restaurant.png \"Restaurants by Area\")"
   ]
  },
  {
   "cell_type": "markdown",
   "metadata": {},
   "source": [
    "### Top 10 types of food"
   ]
  },
  {
   "cell_type": "markdown",
   "metadata": {
    "collapsed": true
   },
   "source": [
    "![alt text](top_food.png \"Top 10 Food Types\")"
   ]
  },
  {
   "cell_type": "markdown",
   "metadata": {},
   "source": [
    "# Summary\n",
    "\n",
    "Although this process went a long way to cleaning and standardizing the data, there are clearly several more steps that are required to ensure the data is completely accurate and internally consistent.\n",
    "\n",
    "Further, there seems to be several instances in which data is either missing or incorrectly added.  For example, the data review showed that there are 48 restaurants in the Honolulu area, however, even a cursory web search would indicate at many times that number.  Other examples of this sort of inaccuracy are also present.\n",
    "\n",
    "This exercise also exposed the limits of the sort of labels used in OSM datasets.  Tourist ameneties did not include Beaches, Parks, surfing supplies, snorkeling equipment rentals, or other attractions closely associated with Hawai'i.\n",
    "\n",
    "Lastly, the OSM project is a wonderful example of both the benefits and shortcomings of depending on independent users contributing information.  This sort of \"crowdsourcing\" strategy provides the opportunity for anyone to contribute information that may either be missing or needs to be updated.  Unfortunately, the lack of standards or uniform requirements does result in data that is often quite messy and inconsistent."
   ]
  },
  {
   "cell_type": "code",
   "execution_count": null,
   "metadata": {
    "collapsed": true
   },
   "outputs": [],
   "source": []
  }
 ],
 "metadata": {
  "kernelspec": {
   "display_name": "Python 2",
   "language": "python",
   "name": "python2"
  },
  "language_info": {
   "codemirror_mode": {
    "name": "ipython",
    "version": 2
   },
   "file_extension": ".py",
   "mimetype": "text/x-python",
   "name": "python",
   "nbconvert_exporter": "python",
   "pygments_lexer": "ipython2",
   "version": "2.7.13"
  }
 },
 "nbformat": 4,
 "nbformat_minor": 2
}
